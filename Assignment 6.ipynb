{
 "cells": [
  {
   "cell_type": "code",
   "execution_count": null,
   "id": "de9c04f3",
   "metadata": {},
   "outputs": [],
   "source": []
  },
  {
   "cell_type": "markdown",
   "id": "47ba13ce",
   "metadata": {},
   "source": [
    "# Assignment 1  1 st question"
   ]
  },
  {
   "cell_type": "code",
   "execution_count": 65,
   "id": "5dd6a515",
   "metadata": {},
   "outputs": [
    {
     "name": "stdout",
     "output_type": "stream",
     "text": [
      "[{'Name': 'AKSHAY', 'DOB': '28-06-1995', 'Height': '5.8', 'City': 'HYDERABAD', 'State': 'TELANGANA'}, {'Name': 'SRIKANTH', 'DOB': '26-07-1996', 'Height': '5.6', 'City': 'MANCHIRYAL', 'State': 'TELANGANA'}, {'Name': 'ROHITH', 'DOB': '12-11-1991', 'Height': '5.6', 'City': 'CHENNAI', 'State': 'TAMILANADU'}, {'Name': 'AKASH', 'DOB': '04-04-1995', 'Height': '5.3', 'City': 'BANGLORE', 'State': 'KARNATAKA'}, {'Name': 'PURI', 'DOB': '05-05-2000', 'Height': '5.2', 'City': 'KOCHI', 'State': 'KERALA'}]\n"
     ]
    }
   ],
   "source": [
    "import json\n",
    "employee=[\n",
    "    {\n",
    "        \"Name\": \"AKSHAY\",\n",
    "        \"DOB\": \"28-06-1995\",\n",
    "        \"Height\": \"5.8\",\n",
    "        \"City\": \"HYDERABAD\",\n",
    "        \"State\": \"TELANGANA\"\n",
    "    },\n",
    "    {\n",
    "        \"Name\": \"SRIKANTH\",\n",
    "        \"DOB\": \"26-07-1996\",\n",
    "        \"Height\": \"5.6\",\n",
    "        \"City\": \"MANCHIRYAL\",\n",
    "        \"State\": \"TELANGANA\"\n",
    "    },\n",
    "    {\n",
    "        \"Name\": \"ROHITH\",\n",
    "        \"DOB\": \"12-11-1991\",\n",
    "        \"Height\": \"5.6\",\n",
    "        \"City\": \"CHENNAI\",\n",
    "        \"State\": \"TAMILANADU\"\n",
    "    },\n",
    "    {\n",
    "        \"Name\": \"AKASH\",\n",
    "        \"DOB\": \"04-04-1995\",\n",
    "        \"Height\": \"5.3\",\n",
    "        \"City\": \"BANGLORE\",\n",
    "        \"State\": \"KARNATAKA\"\n",
    "    },\n",
    "    {\n",
    "        \"Name\": \"PURI\",\n",
    "        \"DOB\": \"05-05-2000\",\n",
    "        \"Height\": \"5.2\",\n",
    "        \"City\": \"KOCHI\",\n",
    "        \"State\": \"KERALA\"\n",
    "    }\n",
    "]\n",
    "with open(\"akshay.json\",\"w\") as f:\n",
    "    json.dump(employee,f,indent=6)\n",
    "    print(employee)"
   ]
  },
  {
   "cell_type": "markdown",
   "id": "f18159ea",
   "metadata": {},
   "source": [
    "# 2. Create a dictionary of any 7 Indian states and their capitals. Write this into a JSON file."
   ]
  },
  {
   "cell_type": "code",
   "execution_count": 39,
   "id": "9b433359",
   "metadata": {},
   "outputs": [
    {
     "name": "stdout",
     "output_type": "stream",
     "text": [
      "{'Telanagana': 'Hyderabad', 'Tamilanadu': 'chennai', 'karnataka': 'benguluru', 'kerala': 'Thiruvananthapuram', 'maharastra': 'mumbai', 'gujrat': 'Gandhinagar', 'goa': 'panaji'}\n"
     ]
    }
   ],
   "source": [
    "import json\n",
    "captail={\"Telanagana\":\"Hyderabad\",\n",
    "         \"Tamilanadu\":\"chennai\",\n",
    "         \"karnataka\":\"benguluru\",\n",
    "         \"kerala\":\"Thiruvananthapuram\",\n",
    "         \"maharastra\":\"mumbai\",\n",
    "         \"gujrat\":\"Gandhinagar\",\n",
    "         \"goa\":\"panaji\"}\n",
    "with open (\"captail.json\",\"w\") as f:\n",
    "           json.dump(captail,f)\n",
    "           print(captail)"
   ]
  },
  {
   "cell_type": "code",
   "execution_count": null,
   "id": "151d323a",
   "metadata": {},
   "outputs": [],
   "source": [
    "\n"
   ]
  },
  {
   "cell_type": "code",
   "execution_count": null,
   "id": "6d0b5090",
   "metadata": {},
   "outputs": [],
   "source": []
  },
  {
   "cell_type": "markdown",
   "id": "3a2c871f",
   "metadata": {},
   "source": [
    "# Create a class named ‘Dog’. It should have a constructor which accepts its name, age and coat color."
   ]
  },
  {
   "cell_type": "code",
   "execution_count": 70,
   "id": "febb81bb",
   "metadata": {},
   "outputs": [
    {
     "name": "stdout",
     "output_type": "stream",
     "text": [
      "rakhi is one year old\n",
      "coat_color is black\n",
      "   \n",
      "max is 2 years old\n",
      "coat_color is red and white\n",
      "weight 8 kgs\n",
      "ear_type v-type\n",
      "   \n",
      "tiger is 1 year old\n",
      "coat_color is white\n",
      "life_span 8-10 years\n",
      "tail_type straight\n"
     ]
    }
   ],
   "source": [
    "class dog:\n",
    "    def __init__(self,name,age,coat_color):\n",
    "        self.name=name\n",
    "        self.age=age\n",
    "        self.coat_color=coat_color\n",
    "        \n",
    "    def description(self):\n",
    "        print(f\"{self.name} is {self.age} old\")\n",
    "        \n",
    "    def get_info(self):\n",
    "        print(f\"coat_color is {self.coat_color}\")\n",
    "        \n",
    "class JackRussellTerrier(dog):\n",
    "    def __init__(self,name,age,coat_color,weight,ear_type):\n",
    "        dog.__init__(self,name,age,coat_color)\n",
    "        self.weight=weight\n",
    "        self.ear_type=ear_type\n",
    "        \n",
    "    def jack_info(self):\n",
    "        print(f\"weight {self.weight} kgs\")\n",
    "        print(f\"ear_type {self.ear_type}\")\n",
    "        \n",
    "class Bulldog(dog):\n",
    "    def __init__(self,name,age,coat_color,life_span,tail_type):\n",
    "        dog.__init__(self,name,age,coat_color)\n",
    "        self.life_span=life_span\n",
    "        self.tail_type=tail_type\n",
    "        \n",
    "    def life_span_info(self):\n",
    "        print(f\"life_span {self.life_span} years\")\n",
    "        print(f\"tail_type {self.tail_type}\")\n",
    "        \n",
    "d=dog(\"rakhi\",\"one year\",\"black\")\n",
    "d.description()\n",
    "d.get_info()\n",
    "print(\"   \")\n",
    "d1=JackRussellTerrier(\"max\",\"2 years\",\"red and white\",8,\"v-type\")\n",
    "d1.description()\n",
    "d1.get_info()\n",
    "d1.jack_info()\n",
    "print(\"   \")\n",
    "d2=Bulldog(\"tiger\",\"1 year\",\"white\",\"8-10\",\"straight\")\n",
    "d2.description()\n",
    "d2.get_info()\n",
    "d2.life_span_info()"
   ]
  },
  {
   "cell_type": "code",
   "execution_count": null,
   "id": "cd46e0e7",
   "metadata": {},
   "outputs": [],
   "source": []
  }
 ],
 "metadata": {
  "kernelspec": {
   "display_name": "Python 3 (ipykernel)",
   "language": "python",
   "name": "python3"
  },
  "language_info": {
   "codemirror_mode": {
    "name": "ipython",
    "version": 3
   },
   "file_extension": ".py",
   "mimetype": "text/x-python",
   "name": "python",
   "nbconvert_exporter": "python",
   "pygments_lexer": "ipython3",
   "version": "3.9.12"
  }
 },
 "nbformat": 4,
 "nbformat_minor": 5
}
